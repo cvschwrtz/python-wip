{
 "cells": [
  {
   "cell_type": "code",
   "execution_count": 1,
   "metadata": {},
   "outputs": [
    {
     "name": "stdout",
     "output_type": "stream",
     "text": [
      "John Doe's estimated insurance cost is 1836.0 dollars.\n",
      "John Doe is now 26 years old.\n",
      "John Doe's estimated insurance cost is 2086.0 dollars.\n",
      "John Doe now has 2 children.\n",
      "John Doe's estimated insurance cost is 2936.0 dollars.\n",
      "{'Name': 'John Doe', 'Age': 26, 'Sex': 1, 'BMI': 22.2, 'Number of Children': 2, 'Smoker': 0}\n"
     ]
    }
   ],
   "source": [
    "class Patient:\n",
    "  def __init__(self, name, age, sex, bmi, num_of_children, smoker):\n",
    "    self.name = name\n",
    "    self.age = age\n",
    "    self.sex = sex\n",
    "    self.bmi = bmi\n",
    "    self.num_of_children = num_of_children\n",
    "    self.smoker = smoker\n",
    "  \n",
    "  def estimated_insurance_cost(self):\n",
    "    estimated_cost = 250 * self.age - 128 * self.sex + 370 * self.bmi + 425 * self.num_of_children + 24000 * self.smoker - 12500\n",
    "    print(self.name + \"'s estimated insurance cost is \" + str(estimated_cost) + \" dollars.\")\n",
    "\n",
    "  def update_age(self, new_age):\n",
    "    self.age = new_age\n",
    "    print(self.name + \" is now \" + str(self.age) + \" years old.\")\n",
    "    self.estimated_insurance_cost()\n",
    "\n",
    "  def update_num_children(self, new_num_children):\n",
    "    self.num_of_children = new_num_children\n",
    "    if new_num_children == 1:\n",
    "      print(self.name + \" now has \" + str(self.num_of_children) + \" child.\")\n",
    "    else:\n",
    "      print(self.name + \" now has \" + str(self.num_of_children) + \" children.\")\n",
    "    self.estimated_insurance_cost()\n",
    "\n",
    "  def patient_profile(self):\n",
    "    patient_information = {}\n",
    "    patient_information[\"Name\"] = self.name\n",
    "    patient_information[\"Age\"] = self.age\n",
    "    patient_information[\"Sex\"] = self.sex\n",
    "    patient_information[\"BMI\"] = self.bmi\n",
    "    patient_information[\"Number of Children\"] = self.num_of_children\n",
    "    patient_information[\"Smoker\"] = self.smoker\n",
    "    return patient_information\n",
    "\n",
    "\n",
    "patient1 = Patient(\"John Doe\", 25, 1, 22.2, 0, 0)\n",
    "patient1.estimated_insurance_cost()\n",
    "patient1.update_age(26)\n",
    "patient1.update_num_children(2)\n",
    "print(patient1.patient_profile())"
   ]
  },
  {
   "cell_type": "code",
   "execution_count": null,
   "metadata": {},
   "outputs": [],
   "source": []
  }
 ],
 "metadata": {
  "kernelspec": {
   "display_name": "Python 3",
   "language": "python",
   "name": "python3"
  },
  "language_info": {
   "codemirror_mode": {
    "name": "ipython",
    "version": 3
   },
   "file_extension": ".py",
   "mimetype": "text/x-python",
   "name": "python",
   "nbconvert_exporter": "python",
   "pygments_lexer": "ipython3",
   "version": "3.8.5"
  }
 },
 "nbformat": 4,
 "nbformat_minor": 4
}
