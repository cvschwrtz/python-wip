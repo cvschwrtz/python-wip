{
 "metadata": {
  "language_info": {
   "codemirror_mode": {
    "name": "ipython",
    "version": 3
   },
   "file_extension": ".py",
   "mimetype": "text/x-python",
   "name": "python",
   "nbconvert_exporter": "python",
   "pygments_lexer": "ipython3",
   "version": 3
  },
  "orig_nbformat": 4
 },
 "nbformat": 4,
 "nbformat_minor": 2,
 "cells": [
  {
   "cell_type": "code",
   "execution_count": null,
   "metadata": {},
   "outputs": [],
   "source": [
    "import numpy as np\n",
    "import pandas as pd\n",
    "from scipy.stats import binom_test\n",
    "\n",
    "def simulation_binomial_test(observed_successes, n, p, alternative_hypothesis):\n",
    "  #initialize null_outcomes\n",
    "  null_outcomes = []\n",
    "  \n",
    "  #generate the simulated null distribution\n",
    "  for i in range(10000):\n",
    "    simulated_monthly_visitors = np.random.choice(['y', 'n'], size=n, p=[p, 1-p])\n",
    "    num_purchased = np.sum(simulated_monthly_visitors == 'y')\n",
    "    null_outcomes.append(num_purchased)\n",
    "\n",
    "  null_outcomes = np.array(null_outcomes)\n",
    "\n",
    "  if alternative_hypothesis == 'less':\n",
    "    p_value = np.sum(null_outcomes <= observed_successes)/len(null_outcomes) \n",
    "  elif alternative_hypothesis == 'greater':\n",
    "    p_value = np.sum(null_outcomes >= observed_successes)/len(null_outcomes)\n",
    "  else:\n",
    "    difference = np.abs(p*n - observed_successes)\n",
    "    upper = p*n + difference\n",
    "    lower = p*n - difference\n",
    "    p_value = np.sum((null_outcomes >= upper) | (null_outcomes <= lower))/len(null_outcomes)\n",
    "  \n",
    "  #return the p-value\n",
    "  return p_value\n",
    "\n",
    "#Test your function:\n",
    "print('lower tail one-sided test:')\n",
    "p_value1 = simulation_binomial_test(45, 500, .1, alternative_hypothesis = 'less')\n",
    "print(\"simulation p-value: \", p_value1)\n",
    "\n",
    "p_value2 = binom_test(45, 500, .1, alternative = 'less')\n",
    "print(\"binom_test p-value: \", p_value2)\n",
    "\n",
    "print('upper tail one-sided test:')\n",
    "p_value1 = simulation_binomial_test(53, 500, .1, alternative_hypothesis = 'greater')\n",
    "print(\"simulation p-value: \", p_value1)\n",
    "\n",
    "p_value2 = binom_test(53, 500, .1, alternative = 'greater')\n",
    "print(\"binom_test p-value: \", p_value2)\n",
    "\n",
    "print('two-sided test:')\n",
    "p_value1 = simulation_binomial_test(42, 500, .1, alternative_hypothesis = 'not_equal')\n",
    "print(\"simulation p-value: \", p_value1)\n",
    "\n",
    "p_value2 = binom_test(42, 500, .1)\n",
    "print(\"binom_test p-value: \", p_value2)"
   ]
  }
 ]
}