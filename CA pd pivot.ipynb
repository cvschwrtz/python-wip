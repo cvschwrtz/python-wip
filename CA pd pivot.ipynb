{
 "metadata": {
  "language_info": {
   "codemirror_mode": {
    "name": "ipython",
    "version": 3
   },
   "file_extension": ".py",
   "mimetype": "text/x-python",
   "name": "python",
   "nbconvert_exporter": "python",
   "pygments_lexer": "ipython3",
   "version": 3
  },
  "orig_nbformat": 2
 },
 "nbformat": 4,
 "nbformat_minor": 2,
 "cells": [
  {
   "cell_type": "code",
   "execution_count": null,
   "metadata": {},
   "outputs": [],
   "source": [
    "import codecademylib\n",
    "import pandas as pd\n",
    "\n",
    "user_visits = pd.read_csv('page_visits.csv')\n",
    "\n",
    "#print(user_visits.head())\n",
    "\n",
    "click_source = user_visits.groupby('utm_source').id.count().reset_index()\n",
    "\n",
    "click_source_by_month = user_visits.groupby(['utm_source', 'month']).id.count().reset_index()\n",
    "print(click_source_by_month)\n",
    "\n",
    "click_source_by_month_pivot = click_source_by_month.pivot(\n",
    "  columns='month',\n",
    "  index='utm_source',\n",
    "  values='id').reset_index()\n",
    "print(click_source_by_month_pivot)"
   ]
  }
 ]
}