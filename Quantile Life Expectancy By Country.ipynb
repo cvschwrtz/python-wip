{
 "metadata": {
  "language_info": {
   "codemirror_mode": {
    "name": "ipython",
    "version": 3
   },
   "file_extension": ".py",
   "mimetype": "text/x-python",
   "name": "python",
   "nbconvert_exporter": "python",
   "pygments_lexer": "ipython3",
   "version": 3
  },
  "orig_nbformat": 2
 },
 "nbformat": 4,
 "nbformat_minor": 2,
 "cells": [
  {
   "cell_type": "code",
   "execution_count": null,
   "metadata": {},
   "outputs": [],
   "source": [
    "import codecademylib3_seaborn\n",
    "import numpy as np\n",
    "import pandas as pd\n",
    "import matplotlib.pyplot as plt\n",
    "\n",
    "data = pd.read_csv(\"country_data.csv\")\n",
    "print(data.head())\n",
    "life_expectancy = data['Life Expectancy']\n",
    "life_expectancy_quartiles = np.quantile(life_expectancy, [.25, .5, .75])\n",
    "\n",
    "print(life_expectancy.min())\n",
    "print(life_expectancy.max())\n",
    "print(life_expectancy_quartiles)\n",
    "\n",
    "q1 = np.quantile(life_expectancy, 0.25)\n",
    "q2 = np.quantile(life_expectancy, 0.5)\n",
    "q3 = np.quantile(life_expectancy, 0.75)\n",
    "\n",
    "\"\"\"plt.hist(life_expectancy)\n",
    "plt.axvline(x=q1, label=\"Q1\", c='#6400e4')\n",
    "plt.axvline(x=q2, label=\"Q2\", c='#fd4d3f')\n",
    "plt.axvline(x=q3, label=\"Q3\", c='#4fe0b0')\n",
    "plt.show()\"\"\"\n",
    "\n",
    "gdp = data.GDP\n",
    "median_gdp = np.quantile(gdp, .5)\n",
    "print(median_gdp)\n",
    "\n",
    "low_gdp = data[data.GDP <= median_gdp]\n",
    "high_gdp = data[data.GDP > median_gdp]\n",
    "\n",
    "#print(low_gdp)\n",
    "#print(high_gdp)\n",
    "\n",
    "low_gdp_quartiles = np.quantile(low_gdp['Life Expectancy'], [.25, .5, .75])\n",
    "print(low_gdp_quartiles)\n",
    "\n",
    "high_gdp_quartiles = np.quantile(high_gdp['Life Expectancy'], [.25, .5, .75])\n",
    "print(high_gdp_quartiles)\n",
    "\n",
    "plt.hist(high_gdp[\"Life Expectancy\"], alpha = 0.5, label = \"High GDP\")\n",
    "plt.hist(low_gdp[\"Life Expectancy\"], alpha = 0.5, label = \"Low GDP\")\n",
    "plt.legend()\n",
    "plt.show()"
   ]
  }
 ]
}