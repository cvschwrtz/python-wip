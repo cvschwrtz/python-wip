{
    "cells": [
        {
            "cell_type": "code",
            "execution_count": null,
            "source": [
                "import codecademylib\r\n",
                "from matplotlib import pyplot as plt\r\n",
                "import pandas as pd\r\n",
                "\r\n",
                "orders = pd.read_csv('orders.csv')\r\n",
                "\r\n",
                "orders['month'] = orders.date.apply(lambda x: x.split('-')[0])\r\n",
                "\r\n",
                "avg_order = orders.groupby('month').price.mean().reset_index()\r\n",
                "\r\n",
                "std_order = orders.groupby('month').price.std().reset_index()\r\n",
                "\r\n",
                "bar_heights = avg_order.price\r\n",
                "bar_errors = std_order.price\r\n",
                "\r\n",
                "ax = plt.subplot()\r\n",
                "plt.bar(range(len(bar_heights)), bar_heights, yerr=bar_errors, capsize=5)\r\n",
                "plt.title('Orders Over Time')\r\n",
                "ax.set_xticks(range(len(bar_heights)))\r\n",
                "ax.set_xticklabels(['April', 'May', 'June', 'July', 'August', 'September'])\r\n",
                "plt.ylabel('Price')\r\n",
                "plt.xlabel('Months')\r\n",
                "plt.show()"
            ],
            "outputs": [],
            "metadata": {}
        }
    ],
    "metadata": {
        "orig_nbformat": 4,
        "language_info": {
            "name": "python"
        }
    },
    "nbformat": 4,
    "nbformat_minor": 2
}