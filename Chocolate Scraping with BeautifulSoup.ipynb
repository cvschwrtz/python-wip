{
 "cells": [
  {
   "cell_type": "code",
   "execution_count": null,
   "metadata": {},
   "outputs": [],
   "source": [
    "import codecademylib3_seaborn\n",
    "from bs4 import BeautifulSoup\n",
    "import requests\n",
    "import pandas as pd\n",
    "import matplotlib.pyplot as plt\n",
    "import numpy as np\n",
    "\n",
    "webpage = requests.get(\"https://content.codecademy.com/courses/beautifulsoup/cacao/index.html\")\n",
    "soup = BeautifulSoup(webpage.content, \"html.parser\")\n",
    "#print(soup)\n",
    "\n",
    "bar_rating = soup.find_all(attrs={\"class\": \"Rating\"})\n",
    "ratings = []\n",
    "for rating in bar_rating[1:]:\n",
    "  rating_text = rating.get_text()\n",
    "  ratings.append(float(rating_text))\n",
    "#print(ratings)\n",
    "\n",
    "#plt.hist(ratings)\n",
    "#plt.show()\n",
    "\n",
    "comp_tags = soup.select(\".Company\")\n",
    "companies = []\n",
    "for comp in comp_tags[1:]:\n",
    "  companies.append(comp.get_text())\n",
    "#print(companies)\n",
    "\n",
    "cocoa_lvl = soup.select(\".CocoaPercent\")\n",
    "cocoa_percent = []\n",
    "for cocoa in cocoa_lvl[1:]:\n",
    "  percent = (cocoa.get_text().strip('%'))\n",
    "  cocoa_percent.append(float(percent))\n",
    "#print(cocoa_percent)\n",
    "\n",
    "dcomp = {\"Companies\": companies, \"Ratings\": ratings, \"CocoaPercentage\": cocoa_percent}\n",
    "cocoa_df = pd.DataFrame.from_dict(dcomp)\n",
    "mean_val = cocoa_df.groupby(\"Companies\").Ratings.mean()\n",
    "ten_best = mean_val.nlargest(10)\n",
    "#print(ten_best)\n",
    "\n",
    "plt.clf()\n",
    "plt.scatter(cocoa_df.CocoaPercentage, cocoa_df.Ratings)\n",
    "z = np.polyfit(cocoa_df.CocoaPercentage, cocoa_df.Ratings, 1)\n",
    "line_function = np.poly1d(z)\n",
    "plt.plot(cocoa_df.CocoaPercentage, line_function(cocoa_df.CocoaPercentage), \"r--\")\n",
    "plt.show()"
   ]
  }
 ],
 "metadata": {
  "kernelspec": {
   "display_name": "Python 3",
   "language": "python",
   "name": "python3"
  },
  "language_info": {
   "codemirror_mode": {
    "name": "ipython",
    "version": 3
   },
   "file_extension": ".py",
   "mimetype": "text/x-python",
   "name": "python",
   "nbconvert_exporter": "python",
   "pygments_lexer": "ipython3",
   "version": "3.8.5"
  }
 },
 "nbformat": 4,
 "nbformat_minor": 4
}
