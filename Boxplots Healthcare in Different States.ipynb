{
 "metadata": {
  "language_info": {
   "codemirror_mode": {
    "name": "ipython",
    "version": 3
   },
   "file_extension": ".py",
   "mimetype": "text/x-python",
   "name": "python",
   "nbconvert_exporter": "python",
   "pygments_lexer": "ipython3",
   "version": 3
  },
  "orig_nbformat": 4
 },
 "nbformat": 4,
 "nbformat_minor": 2,
 "cells": [
  {
   "cell_type": "code",
   "execution_count": null,
   "metadata": {},
   "outputs": [],
   "source": [
    "import codecademylib3_seaborn\n",
    "import pandas as pd\n",
    "from matplotlib import pyplot as plt\n",
    "\n",
    "healthcare = pd.read_csv(\"healthcare.csv\")\n",
    "print(healthcare.head())\n",
    "#print(healthcare[\"DRG Definition\"].unique())\n",
    "chest_pain = healthcare[healthcare['DRG Definition'] == '313 - CHEST PAIN']\n",
    "texas_chest_pain = chest_pain[chest_pain['Provider State'] == \"TX\"]\n",
    "costs = texas_chest_pain[' Average Covered Charges '].values\n",
    "\n",
    "states_unsorted = chest_pain['Provider State'].unique()\n",
    "states = sorted(states_unsorted)\n",
    "\n",
    "datasets = []\n",
    "for state in states:\n",
    "  datasets.append(chest_pain[chest_pain['Provider State'] == state][' Average Covered Charges '].values)\n",
    "\n",
    "plt.figure(figsize=(20,6))\n",
    "plt.boxplot(datasets, labels=states)\n",
    "plt.show()"
   ]
  }
 ]
}