{
 "metadata": {
  "language_info": {
   "codemirror_mode": {
    "name": "ipython",
    "version": 3
   },
   "file_extension": ".py",
   "mimetype": "text/x-python",
   "name": "python",
   "nbconvert_exporter": "python",
   "pygments_lexer": "ipython3",
   "version": 3
  },
  "orig_nbformat": 2
 },
 "nbformat": 4,
 "nbformat_minor": 2,
 "cells": [
  {
   "cell_type": "code",
   "execution_count": null,
   "metadata": {},
   "outputs": [],
   "source": [
    "import codecademylib\n",
    "import pandas as pd\n",
    "\n",
    "orders = pd.read_csv('shoefly.csv')\n",
    "\n",
    "#print(orders.head(5))\n",
    "\n",
    "orders['shoe_source'] = orders.shoe_material.apply(lambda source: 'animal'\n",
    "if source == 'leather'\n",
    "else 'vegan')\n",
    "\n",
    "#print(orders.head(5))\n",
    "\n",
    "orders['salutation'] = orders.apply(lambda row: 'Dear Mr. ' + row['last_name']\n",
    "if row['gender'] == 'male'\n",
    "else 'Dear Ms. ' + row['last_name'],\n",
    "axis=1)\n",
    "\n",
    "print(orders.head(5))"
   ]
  },
  {
   "cell_type": "code",
   "execution_count": null,
   "metadata": {},
   "outputs": [],
   "source": [
    "import codecademylib\n",
    "import pandas as pd\n",
    "\n",
    "orders = pd.read_csv('shoefly.csv')\n",
    "\n",
    "orders['shoe_source'] = orders.apply(lambda row: 'animal'\n",
    "if row['shoe_material'] == 'leather'\n",
    "else 'vegan',\n",
    "axis=1)\n",
    "\n",
    "orders['salutation'] = orders.apply(lambda row: 'Dear Mr. ' + row['last_name']\n",
    "if row['gender'] == 'male'\n",
    "else 'Dear Ms. ' + row['last_name'],\n",
    "axis=1)\n",
    "\n",
    "\n",
    "print(orders.head(5))"
   ]
  },
  {
   "cell_type": "code",
   "execution_count": null,
   "metadata": {},
   "outputs": [],
   "source": [
    "# Both produce the same result"
   ]
  }
 ]
}