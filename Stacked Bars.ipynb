{
    "cells": [
        {
            "cell_type": "code",
            "execution_count": null,
            "source": [
                "import codecademylib\r\n",
                "from matplotlib import pyplot as plt\r\n",
                "import numpy as np\r\n",
                "\r\n",
                "unit_topics = ['Limits', 'Derivatives', 'Integrals', 'Diff Eq', 'Applications']\r\n",
                "As = [6, 3, 4, 3, 5]\r\n",
                "Bs = [8, 12, 8, 9, 10]\r\n",
                "Cs = [13, 12, 15, 13, 14]\r\n",
                "Ds = [2, 3, 3, 2, 1]\r\n",
                "Fs = [1, 0, 0, 3, 0]\r\n",
                "\r\n",
                "c_bottom = np.add(As, Bs)\r\n",
                "d_bottom = np.add(c_bottom, Cs)\r\n",
                "f_bottom = np.add(d_bottom, Ds)\r\n",
                "\r\n",
                "#create your plot here\r\n",
                "plt.figure(figsize=(10, 8))\r\n",
                "plt.bar(range(len(As)), As) \r\n",
                "plt.bar(range(len(Bs)), Bs, bottom=As)\r\n",
                "plt.bar(range(len(Cs)), Cs, bottom=c_bottom)\r\n",
                "plt.bar(range(len(Ds)), Ds, bottom=d_bottom)\r\n",
                "plt.bar(range(len(Fs)), Fs, bottom=f_bottom)\r\n",
                "ax = plt.subplot()\r\n",
                "ax.set_xticks(range(len(unit_topics)))\r\n",
                "ax.set_xticklabels(unit_topics)\r\n",
                "plt.title('Grade Distribution')\r\n",
                "plt.xlabel('Unit')\r\n",
                "plt.ylabel('Number of Students')\r\n",
                "plt.show()\r\n",
                "plt.savefig('my_stacked_bar.png')"
            ],
            "outputs": [],
            "metadata": {}
        }
    ],
    "metadata": {
        "orig_nbformat": 4,
        "language_info": {
            "name": "python"
        }
    },
    "nbformat": 4,
    "nbformat_minor": 2
}