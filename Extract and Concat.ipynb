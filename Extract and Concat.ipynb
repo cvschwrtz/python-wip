{
 "metadata": {
  "language_info": {
   "codemirror_mode": {
    "name": "ipython",
    "version": 3
   },
   "file_extension": ".py",
   "mimetype": "text/x-python",
   "name": "python",
   "nbconvert_exporter": "python",
   "pygments_lexer": "ipython3",
   "version": 3
  },
  "orig_nbformat": 2
 },
 "nbformat": 4,
 "nbformat_minor": 2,
 "cells": [
  {
   "cell_type": "code",
   "execution_count": null,
   "metadata": {},
   "outputs": [],
   "source": [
    "import pandas as pd\n",
    "\n",
    "country = pd.read_csv(\"country.csv\")\n",
    "\n",
    "# Extract Country abbreviation and Feature from 'Country_Feature' using regular expressions\n",
    "sep = country[\"Country_Feature\"].str.extract('(\\w{3})(\\w{3})')\n",
    "\n",
    "# Name Columns \"Country\" and \"Feature\"\n",
    "sep.columns = ['Country', 'Feature']\n",
    "\n",
    "# Merge country and sep\n",
    "country = pd.concat([sep, country], axis = 1)\n",
    "\n",
    "# Drop 'Country_Feature' column\n",
    "country = country.drop(['Country_Feature'], axis = 1)\n",
    "\n",
    "# Sort Columns to 'Country', 'Feature', and 'Observation'\n",
    "country = country[['Country', 'Feature', 'Observation']]\n",
    "\n",
    "# Print country\n",
    "print(country)"
   ]
  }
 ]
}