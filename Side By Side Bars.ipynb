{
    "cells": [
        {
            "cell_type": "code",
            "execution_count": null,
            "source": [
                "import codecademylib\r\n",
                "from matplotlib import pyplot as plt\r\n",
                "\r\n",
                "unit_topics = ['Limits', 'Derivatives', 'Integrals', 'Diff Eq', 'Applications']\r\n",
                "middle_school_a = [80, 85, 84, 83, 86]\r\n",
                "middle_school_b = [73, 78, 77, 82, 86]\r\n",
                "\r\n",
                "\r\n",
                "def create_x(t, w, n, d):\r\n",
                "    return [t*x + w*n for x in range(d)]\r\n",
                "# Make your chart here\r\n",
                "school_a_x = create_x(2, .8, 1, 5)\r\n",
                "school_b_x = create_x(2, .8, 2, 5)\r\n",
                "middle_x = [ (a + b) / 2.0 for a, b in zip(school_a_x, school_b_x)]\r\n",
                "\r\n",
                "plt.figure(figsize=(10, 8))\r\n",
                "ax = plt.subplot()\r\n",
                "ax.set_xticks(middle_x)\r\n",
                "ax.set_xticklabels(unit_topics)\r\n",
                "plt.bar(school_a_x, middle_school_a)\r\n",
                "plt.bar(school_b_x, middle_school_b)\r\n",
                "plt.title('Test Averages on Different Units')\r\n",
                "plt.xlabel('Unit')\r\n",
                "plt.ylabel('Test Average')\r\n",
                "plt.legend(['Middle School A', 'Middle School B'])\r\n",
                "plt.show()\r\n",
                "plt.savefig('my_side_by_side.png')"
            ],
            "outputs": [],
            "metadata": {}
        }
    ],
    "metadata": {
        "orig_nbformat": 4,
        "language_info": {
            "name": "python"
        }
    },
    "nbformat": 4,
    "nbformat_minor": 2
}