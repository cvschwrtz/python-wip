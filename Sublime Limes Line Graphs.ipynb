{
    "cells": [
        {
            "cell_type": "code",
            "execution_count": null,
            "source": [
                "import codecademylib\r\n",
                "from matplotlib import pyplot as plt\r\n",
                "\r\n",
                "months = [\"Jan\", \"Feb\", \"Mar\", \"Apr\", \"May\", \"Jun\", \"Jul\", \"Aug\", \"Sep\", \"Oct\", \"Nov\", \"Dec\"]\r\n",
                "\r\n",
                "visits_per_month = [9695, 7909, 10831, 12942, 12495, 16794, 14161, 12762, 12777, 12439, 10309, 8724]\r\n",
                "\r\n",
                "# numbers of limes of different species sold each month\r\n",
                "key_limes_per_month = [92.0, 109.0, 124.0, 70.0, 101.0, 79.0, 106.0, 101.0, 103.0, 90.0, 102.0, 106.0]\r\n",
                "persian_limes_per_month = [67.0, 51.0, 57.0, 54.0, 83.0, 90.0, 52.0, 63.0, 51.0, 44.0, 64.0, 78.0]\r\n",
                "blood_limes_per_month = [75.0, 75.0, 76.0, 71.0, 74.0, 77.0, 69.0, 80.0, 63.0, 69.0, 73.0, 82.0]\r\n",
                "\r\n",
                "\r\n",
                "# create your figure here\r\n",
                "plt.figure(figsize=(12, 8))\r\n",
                "ax1 = plt.subplot(1, 2, 1)\r\n",
                "x_values = range(len(months))\r\n",
                "plt.plot(x_values, visits_per_month, marker='s')\r\n",
                "plt.xlabel('Months')\r\n",
                "plt.ylabel('Number of Visits')\r\n",
                "plt.title('Number of Site Visits Per Month')\r\n",
                "ax1.set_xticks(x_values)\r\n",
                "ax1.set_xticklabels(months)\r\n",
                "ax2 = plt.subplot(1, 2, 2)\r\n",
                "plt.plot(x_values, key_limes_per_month, color='red', label='Key Limes', marker='o')\r\n",
                "plt.plot(x_values, persian_limes_per_month, color='green', label='Persian Limes', marker='o')\r\n",
                "plt.plot(x_values, blood_limes_per_month, color='purple', label='Blood Limes', marker='o')\r\n",
                "plt.xlabel('Months')\r\n",
                "plt.ylabel('Number Sold')\r\n",
                "plt.title('Limes Sold Per Month')\r\n",
                "ax2.set_xticks(x_values)\r\n",
                "ax2.set_xticklabels(months)\r\n",
                "plt.legend()\r\n",
                "plt.subplots_adjust(wspace=.25)\r\n",
                "plt.show()\r\n",
                "plt.savefig('Sublime Limes 2020.png')\r\n"
            ],
            "outputs": [],
            "metadata": {}
        }
    ],
    "metadata": {
        "orig_nbformat": 4,
        "language_info": {
            "name": "python"
        }
    },
    "nbformat": 4,
    "nbformat_minor": 2
}