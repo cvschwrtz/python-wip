{
 "metadata": {
  "language_info": {
   "codemirror_mode": {
    "name": "ipython",
    "version": 3
   },
   "file_extension": ".py",
   "mimetype": "text/x-python",
   "name": "python",
   "nbconvert_exporter": "python",
   "pygments_lexer": "ipython3",
   "version": 3
  },
  "orig_nbformat": 2
 },
 "nbformat": 4,
 "nbformat_minor": 2,
 "cells": [
  {
   "cell_type": "code",
   "execution_count": null,
   "metadata": {},
   "outputs": [],
   "source": [
    "# Dealing with Multiple Files\n",
    "\n",
    "import glob\n",
    "\n",
    "student_files = glob.glob('exams*.csv')\n",
    "df_list = []\n",
    "\n",
    "for filename in student_files:\n",
    "  data = pd.read_csv(filename)\n",
    "  df_list.append(data)\n",
    " \n",
    "students = pd.concat(df_list)"
   ]
  },
  {
   "cell_type": "code",
   "execution_count": null,
   "metadata": {},
   "outputs": [],
   "source": [
    "# Reshaping your Data\n",
    "\n",
    "#print(students.columns)\n",
    "students = pd.melt(frame=students, id_vars=['full_name','gender_age','grade'], value_vars=['fractions', 'probability'], value_name='score', var_name='exam')"
   ]
  },
  {
   "cell_type": "code",
   "execution_count": null,
   "metadata": {},
   "outputs": [],
   "source": [
    "# Dealing with Duplicates\n",
    "\n",
    "duplicates = students.duplicated()\n",
    "#print(duplicates.value_counts())\n",
    "\n",
    "# Or specify a specific column to look for duplicate values\n",
    "duplicates = df.duplicated(subset=['COLUMN'])\n",
    "\n",
    "students = students.drop_duplicates()"
   ]
  },
  {
   "cell_type": "code",
   "execution_count": null,
   "metadata": {},
   "outputs": [],
   "source": [
    "# Splitting by Index\n",
    "\n",
    "# Say we have a column “birthday” with data formatted in MMDDYYYY format. In other words, “11011993” represents a birthday of November 1, 1993. We want to split this data into day, month, and year so that we can use these columns as separate features\n",
    "# Create the 'month' column\n",
    "df['month'] = df.birthday.str[0:2]\n",
    " # Create the 'day' column\n",
    "df['day'] = df.birthday.str[2:4]\n",
    "# Create the 'year' column\n",
    "df['year'] = df.birthday.str[4:]"
   ]
  },
  {
   "cell_type": "code",
   "execution_count": null,
   "metadata": {},
   "outputs": [],
   "source": [
    "# Splitting by Character\n",
    "\n",
    "name_split = students.full_name.str.split(' ')\n",
    "students['first_name'] = name_split.str.get(0)\n",
    "students['last_name'] = name_split.str.get(1)"
   ]
  },
  {
   "cell_type": "code",
   "execution_count": null,
   "metadata": {},
   "outputs": [],
   "source": [
    "# Looking at Types\n",
    "\n",
    "print(df.dtypes)"
   ]
  },
  {
   "cell_type": "code",
   "execution_count": null,
   "metadata": {},
   "outputs": [],
   "source": [
    "# String Parsing\n",
    "\n",
    "# First, we can use what we know of regex to get rid of all of the percent signs:\n",
    "students.score = students['score'].replace('[\\%,]', '', regex=True)\n",
    "# Then, we can use the pandas function .to_numeric() to convert strings containing numerical values to integers or floats:\n",
    "students.score = pd.to_numeric(students.score)\n",
    "\n",
    "# More String Parsing\n",
    "# To extract the numbers from the string we can use pandas’ .str.split() function:\n",
    "split_df = df['exerciseDescription'].str.split('(\\d+)', expand=True)\n",
    "-----\n",
    "# We know that the number is in the first part of the string, so we can just get the first item when we split by digit:\n",
    "students.grade = students.grade.str.split('(\\d+)', expand=True)[1]\n",
    "students.grade = pd.to_numeric(students.grade)\n",
    "\n",
    "# Then, we can assign columns from this DataFrame to the original df:\n",
    "df.reps = pd.to_numeric(split_df[1])\n",
    "df.exercise = split_df[2].replace('[\\- ]', '', regex=True)"
   ]
  },
  {
   "cell_type": "code",
   "execution_count": null,
   "metadata": {},
   "outputs": [],
   "source": [
    "# Missing Values\n",
    "\n",
    "# Method 1: drop all of the rows with a missing value\n",
    "# We can use .dropna() to do this:\n",
    "df = df.dropna()\n",
    "df = df.dropna(subset=['COLUMN'])\n",
    "\n",
    "# Method 2: fill the missing values with the mean of the column, or with some other aggregate value.\n",
    "# We can use .fillna() to do this:\n",
    "df = df.column.fillna(0)\n",
    "df.column = df.column.fillna(0)\n",
    "df = df.fillna(value={\"column1\":df.column1.mean(), \"columns2\":df.column2.mean()})\n",
    "# Column 1 is the column to be filled with the missing values\n",
    "# we can fill those missing values with an aggregate value from Column 2"
   ]
  }
 ]
}