{
    "cells": [
        {
            "cell_type": "code",
            "execution_count": null,
            "source": [
                "import codecademylib\r\n",
                "from matplotlib import pyplot as plt\r\n",
                "\r\n",
                "hours_reported =[3, 2.5, 2.75, 2.5, 2.75, 3.0, 3.5, 3.25, 3.25,  3.5, 3.5, 3.75, 3.75,4, 4.0, 3.75,  4.0, 4.25, 4.25, 4.5, 4.5, 5.0, 5.25, 5, 5.25, 5.5, 5.5, 5.75, 5.25, 4.75]\r\n",
                "exam_scores = [52.53, 59.05, 61.15, 61.72, 62.58, 62.98, 64.99, 67.63, 68.52, 70.29, 71.33, 72.15, 72.67, 73.85, 74.44, 75.62, 76.81, 77.82, 78.16, 78.94, 79.08, 80.31, 80.77, 81.37, 85.13, 85.38, 89.34, 90.75, 97.24, 98.31]\r\n",
                "\r\n",
                "# Create your figure here\r\n",
                "plt.figure(figsize=(10, 8))\r\n",
                "# Create your hours_lower_bound and hours_upper_bound lists here \r\n",
                "hours_lower_bound = [x - (x * .2) for x in hours_reported]\r\n",
                "hours_upper_bound = [x + (x * .2) for x in hours_reported]\r\n",
                "# Make your graph here\r\n",
                "plt.fill_between(exam_scores, hours_lower_bound, hours_upper_bound, alpha=0.2) \r\n",
                "plt.plot(exam_scores, hours_reported, linewidth=2)\r\n",
                "plt.title('Time spent studying vs final exam scores')\r\n",
                "plt.xlabel('Score')\r\n",
                "plt.ylabel('Hours studying (self-reported)')\r\n",
                "plt.savefig('my_line_graph.png')\r\n",
                "plt.show()"
            ],
            "outputs": [],
            "metadata": {}
        }
    ],
    "metadata": {
        "orig_nbformat": 4,
        "language_info": {
            "name": "python"
        }
    },
    "nbformat": 4,
    "nbformat_minor": 2
}