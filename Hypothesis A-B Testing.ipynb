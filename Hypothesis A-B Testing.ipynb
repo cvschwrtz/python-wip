{
 "cells": [
  {
   "cell_type": "code",
   "execution_count": null,
   "metadata": {},
   "outputs": [],
   "source": [
    "# Step 1\r\n",
    "import noshmishmosh\r\n",
    "\r\n",
    "# Step 2\r\n",
    "import numpy as np\r\n",
    "\r\n",
    "# Step 4\r\n",
    "all_visitors = noshmishmosh.customer_visits\r\n",
    "\r\n",
    "# Step 5\r\n",
    "paying_visitors = noshmishmosh.purchasing_customers\r\n",
    "\r\n",
    "# Step 6\r\n",
    "total_visitor_count = len(all_visitors)\r\n",
    "paying_visitor_count = len(paying_visitors)\r\n",
    "\r\n",
    "# Step 7\r\n",
    "baseline_percent = paying_visitor_count / total_visitor_count * 100\r\n",
    "\r\n",
    "# Step 8\r\n",
    "print(\"Baseline percent:\")\r\n",
    "print(baseline_percent)\r\n",
    "\r\n",
    "# Step 9\r\n",
    "payment_history = noshmishmosh.money_spent\r\n",
    "\r\n",
    "# Step 10\r\n",
    "average_payment = np.mean(payment_history)\r\n",
    "\r\n",
    "# Step 11\r\n",
    "new_customers_needed = np.ceil(1240 / average_payment)\r\n",
    "\r\n",
    "# Step 12\r\n",
    "percentage_point_increase = new_customers_needed / total_visitor_count * 100\r\n",
    "print(\"Percentage point increase:\")\r\n",
    "print(percentage_point_increase)\r\n",
    "\r\n",
    "# Step 13\r\n",
    "mde = percentage_point_increase / baseline_percent * 100\r\n",
    "\r\n",
    "# Step 14\r\n",
    "print(\"Minimum Detectable Effect:\")\r\n",
    "print(mde)\r\n",
    "\r\n",
    "# Step 16\r\n",
    "ab_sample_size = \t490"
   ]
  }
 ],
 "metadata": {
  "interpreter": {
   "hash": "f5af62a47a935cab1b9f5bd55dc8a4ffe1f7de94240ad3b9f4f2daad172ede4c"
  },
  "kernelspec": {
   "display_name": "Python 3.9.6 64-bit ('PythonSoftwareFoundation.Python.3.9_qbz5n2kfra8p0')",
   "name": "python3"
  },
  "language_info": {
   "name": "python",
   "version": ""
  },
  "orig_nbformat": 4
 },
 "nbformat": 4,
 "nbformat_minor": 2
}