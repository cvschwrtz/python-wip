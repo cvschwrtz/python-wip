{
 "metadata": {
  "language_info": {
   "codemirror_mode": {
    "name": "ipython",
    "version": 3
   },
   "file_extension": ".py",
   "mimetype": "text/x-python",
   "name": "python",
   "nbconvert_exporter": "python",
   "pygments_lexer": "ipython3",
   "version": 3
  },
  "orig_nbformat": 4
 },
 "nbformat": 4,
 "nbformat_minor": 2,
 "cells": [
  {
   "cell_type": "code",
   "execution_count": null,
   "metadata": {},
   "outputs": [],
   "source": [
    "import pandas as pd\n",
    "import numpy as np\n",
    "\n",
    "# Read NYC trees data\n",
    "nyc_trees = pd.read_csv(\"./nyc_tree_census.csv\")\n",
    "\n",
    "tree_health_statuses = nyc_trees.health.unique()\n",
    "print(tree_health_statuses)\n",
    "\n",
    "health_categories = ['Poor', 'Fair', 'Good']\n",
    "\n",
    "nyc_trees.health = pd.Categorical(nyc_trees.health, health_categories, ordered=True)\n",
    "\n",
    "median_index = np.median(nyc_trees.health.cat.codes)\n",
    "median_health_status = health_categories[int(median_index)]\n",
    "print(median_health_status)"
   ]
  }
 ]
}