{
    "cells": [
        {
            "cell_type": "code",
            "execution_count": null,
            "source": [
                "import codecademylib3_seaborn\r\n",
                "from matplotlib import pyplot as plt\r\n",
                "import pandas as pd\r\n",
                "import seaborn as sns\r\n",
                "\r\n",
                "df = pd.read_csv('WorldCupMatches.csv')\r\n",
                "#print(df.head())\r\n",
                "\r\n",
                "df['Total Goals'] = df['Home Team Goals'] + df['Away Team Goals']\r\n",
                "\r\n",
                "#print(df.head())\r\n",
                "\r\n",
                "sns.set_style('whitegrid')\r\n",
                "sns.set_context('poster', font_scale=0.5)\r\n",
                "f, ax = plt.subplots(figsize=(12, 7))\r\n",
                "ax = sns.barplot(data=df, x='Year', y='Total Goals')\r\n",
                "ax.set_title('Goals by Year')\r\n",
                "plt.show()\r\n",
                "\r\n",
                "df_goals = pd.read_csv('goals.csv')\r\n",
                "#print(df_goals.head())\r\n",
                "\r\n",
                "sns.set_context('notebook', font_scale=0.8)\r\n",
                "f, ax2 = plt.subplots(figsize=(12, 7))\r\n",
                "ax2 = sns.boxplot(data=df_goals, x='year', y='goals', palette='Spectral')\r\n",
                "ax2.set_title('Goals by Year')\r\n",
                "plt.show()\r\n",
                "plt.clf()"
            ],
            "outputs": [],
            "metadata": {}
        }
    ],
    "metadata": {
        "orig_nbformat": 4,
        "language_info": {
            "name": "python"
        }
    },
    "nbformat": 4,
    "nbformat_minor": 2
}